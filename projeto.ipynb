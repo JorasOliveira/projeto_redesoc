{
 "cells": [
  {
   "cell_type": "markdown",
   "id": "86695769",
   "metadata": {},
   "source": [
    "**Insper**  \n",
    "**Redes Sociais**\n",
    "\n",
    "# Projeto: Best Books Ever\n",
    "\n",
    "**Jorás Oliveira**  \n",
    "**Luciano Dias**  \n",
    "**Tiago Seixas**\n"
   ]
  },
  {
   "cell_type": "code",
   "execution_count": 1,
   "id": "bacbb8db",
   "metadata": {},
   "outputs": [
    {
     "data": {
      "text/html": [
       "\n",
       "    <script src=\"/files/netpixi.min.js\"></script>\n"
      ],
      "text/plain": [
       "<IPython.core.display.HTML object>"
      ]
     },
     "metadata": {},
     "output_type": "display_data"
    },
    {
     "name": "stderr",
     "output_type": "stream",
     "text": [
      "<frozen importlib._bootstrap>:914: ImportWarning: VendorImporter.find_spec() not found; falling back to find_module()\n"
     ]
    }
   ],
   "source": [
    "import sys\n",
    "import re\n",
    "import random\n",
    "import math\n",
    "import itertools\n",
    "\n",
    "import netpixi\n",
    "import seaborn as sns\n",
    "from graph_tool import centrality, spectral\n",
    "from matplotlib import pyplot as plt\n",
    "from netpixi.integration.gt import *\n",
    "from regression.integration.gt import *\n",
    "import numpy as np\n",
    "\n",
    "np.random.seed(27)"
   ]
  },
  {
   "cell_type": "markdown",
   "id": "82eeabca",
   "metadata": {},
   "source": [
    "## Vertices"
   ]
  },
  {
   "cell_type": "code",
   "execution_count": 2,
   "id": "66920bd4",
   "metadata": {},
   "outputs": [
    {
     "name": "stdout",
     "output_type": "stream",
     "text": [
      "Processando 2000 vertices...\n",
      "100% dos vertices criados!\n"
     ]
    }
   ],
   "source": [
    "SIZE = 52_478\n",
    "SAMPLES_SIZE = 2_000\n",
    "samples = np.random.choice(SIZE, SAMPLES_SIZE, replace=False)\n",
    "\n",
    "samples.sort()\n",
    "\n",
    "g = Graph(directed=False) # não dirigido\n",
    "g.add_vp('rating')\n",
    "g.add_ep('weight')\n",
    "\n",
    "print(f\"Processando {SAMPLES_SIZE} vertices...\")\n",
    "\n",
    "next_id = 0\n",
    "vertex_index = 0\n",
    "header = []\n",
    "row = []\n",
    "genres = []\n",
    "with open('./books_1.Best_Books_Ever.csv', 'rt') as file:\n",
    "    for index, line in enumerate(file, -1):\n",
    "        columns = re.split(r\"(?<=\\S),(?=\\S|$)\", line)\n",
    "\n",
    "        if index == -1:\n",
    "            header = columns\n",
    "            continue\n",
    "\n",
    "        if len(row) == 0:\n",
    "            row = columns\n",
    "        elif len(row) < len(header):\n",
    "            row[-1] = \"\".join([row[-1], columns[0]])\n",
    "            row.extend(columns[1:])\n",
    "            \n",
    "        if len(row) < len(header):\n",
    "            continue\n",
    "        \n",
    "        if next_id not in samples:\n",
    "            next_id += 1\n",
    "            continue\n",
    "        \n",
    "        title = row[0]\n",
    "        rating = row[3]\n",
    "        col_genres = row[7]\n",
    "        book_genres = col_genres[2:-2].split(\"', '\")\n",
    "        hash_genres = np.fromiter(map(hash, book_genres), np.int64)\n",
    "\n",
    "        genres.append(hash_genres)\n",
    "        \n",
    "        vertex = g.add_vertex(vertex_index)\n",
    "        vertex[\"rating\"] = rating\n",
    "\n",
    "        row = []\n",
    "        next_id += 1\n",
    "        vertex_index += 1\n",
    "\n",
    "        if index % 100 == 0:\n",
    "            sys.stdout.write(f\"\\r{vertex_index} {(vertex_index*100)//SAMPLES_SIZE}%\")\n",
    "            sys.stdout.flush()\n",
    "\n",
    "print(f\"\\r{(SAMPLES_SIZE*100)//len(genres)}% dos vertices criados!\")"
   ]
  },
  {
   "cell_type": "markdown",
   "id": "64897f36",
   "metadata": {},
   "source": [
    "## Arestas"
   ]
  },
  {
   "cell_type": "code",
   "execution_count": 3,
   "id": "b8f96f72",
   "metadata": {},
   "outputs": [
    {
     "name": "stdout",
     "output_type": "stream",
     "text": [
      "Processando 1999000 arestas...\n",
      "4000 0%"
     ]
    },
    {
     "name": "stderr",
     "output_type": "stream",
     "text": [
      "/tmp/ipykernel_525/3116047786.py:17: RuntimeWarning: invalid value encountered in power\n",
      "  return np.power(a, 1 / len(inter))\n"
     ]
    },
    {
     "name": "stdout",
     "output_type": "stream",
     "text": [
      "100% das arestas criadas!\n"
     ]
    }
   ],
   "source": [
    "size = math.comb(len(genres), 2)\n",
    "combinations = itertools.combinations(range(len(genres)), 2)\n",
    "\n",
    "print(f\"Processando {size} arestas...\")\n",
    "\n",
    "weights = []\n",
    "def get_weight(g1, g2):\n",
    "    inter = np.intersect1d(g1, g2)\n",
    "    \n",
    "    if len(inter) == 0:\n",
    "        return 0.0\n",
    "    \n",
    "    weight_1 = np.array([len(g1) - index for index, genre in enumerate(g1) if genre in inter])\n",
    "    weight_2 = np.array([len(g2) - index for index, genre in enumerate(g1) if genre in inter])\n",
    "    a = sum((weight_1 + weight_2) / (len(g1) + len(g2))) / len(inter)\n",
    "    \n",
    "    return np.power(a, 1 / len(inter))\n",
    "\n",
    "for index, (id_1, id_2) in enumerate(combinations):\n",
    "    if index % 1_000 == 0:\n",
    "        sys.stdout.write(f\"\\r{index} {(index*100)//size}%\")\n",
    "        sys.stdout.flush()\n",
    "\n",
    "    weight = get_weight(genres[id_1], genres[id_2])\n",
    "\n",
    "    if weight > 0.19:\n",
    "        edge = g.add_edge(id_1, id_2)\n",
    "        edge[\"weight\"] = weight\n",
    "    \n",
    "        weights.append(weight)\n",
    "    \n",
    "print(f\"\\r{(size*100)//len(weights)}% das arestas criadas!\")"
   ]
  },
  {
   "cell_type": "code",
   "execution_count": 5,
   "id": "abad5834",
   "metadata": {},
   "outputs": [
    {
     "data": {
      "text/plain": [
       "<AxesSubplot: ylabel='Count'>"
      ]
     },
     "execution_count": 5,
     "metadata": {},
     "output_type": "execute_result"
    },
    {
     "data": {
      "image/png": "[encoded data removed]",
      "text/plain": [
       "<Figure size 640x480 with 1 Axes>"
      ]
     },
     "metadata": {},
     "output_type": "display_data"
    }
   ],
   "source": [
    "sns.histplot(weights)"
   ]
  },
  {
   "cell_type": "code",
   "execution_count": 6,
   "id": "f38bb96b",
   "metadata": {},
   "outputs": [],
   "source": [
    "# Salva o grafo\n",
    "# Limpa e salva o grafo\n",
    "g = gt_clean(g)\n",
    "\n",
    "gt_save(g, 'best-books-ever.net.gz')"
   ]
  },
  {
   "cell_type": "code",
   "execution_count": 7,
   "id": "118838f7",
   "metadata": {},
   "outputs": [],
   "source": [
    "m = gt_draw.sfdp_layout(g)\n",
    "\n",
    "gt_move(g, m)\n",
    "gt_save(g, 'best-books-ever.net.gz')"
   ]
  },
  {
   "cell_type": "code",
   "execution_count": null,
   "id": "0c5ac071",
   "metadata": {},
   "outputs": [],
   "source": [
    "netpixi.render('best-books-ever.net.gz', infinite=True);"
   ]
  },
  {
   "cell_type": "code",
   "execution_count": null,
   "id": "ca3b033a",
   "metadata": {},
   "outputs": [],
   "source": []
  }
 ],
 "metadata": {
  "kernelspec": {
   "display_name": "Python 3 (ipykernel)",
   "language": "python",
   "name": "python3"
  },
  "language_info": {
   "codemirror_mode": {
    "name": "ipython",
    "version": 3
   },
   "file_extension": ".py",
   "mimetype": "text/x-python",
   "name": "python",
   "nbconvert_exporter": "python",
   "pygments_lexer": "ipython3",
   "version": "3.10.10"
  }
 },
 "nbformat": 4,
 "nbformat_minor": 5
}
